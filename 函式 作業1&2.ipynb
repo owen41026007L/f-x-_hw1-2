{
 "cells": [
  {
   "cell_type": "code",
   "execution_count": 1,
   "id": "80162011",
   "metadata": {},
   "outputs": [
    {
     "name": "stdout",
     "output_type": "stream",
     "text": [
      "你的背包包含以下物品:\n",
      "索仔: 1\n",
      "火把: 6\n",
      "銀角仔: 42\n",
      "刀仔: 1\n",
      "箭: 12\n",
      "總共物品數量: 62\n"
     ]
    }
   ],
   "source": [
    "def displayInventory(inventory):\n",
    "    print(\"你的背包包含以下物品:\")\n",
    "    total_items = 0\n",
    "\n",
    "    for item, quantity in inventory.items():\n",
    "        print(f\"{item}: {quantity}\")\n",
    "        total_items += quantity\n",
    "\n",
    "    print(\"總共物品數量:\", total_items)\n",
    "\n",
    "# 示例裝備字典\n",
    "inventory = {'索仔': 1, '火把': 6, '銀角仔': 42, '刀仔': 1, '箭': 12}\n",
    "\n",
    "# 適用函數顯示裝備訊息\n",
    "displayInventory(inventory)\n"
   ]
  },
  {
   "cell_type": "code",
   "execution_count": 3,
   "id": "fc9553e9",
   "metadata": {},
   "outputs": [
    {
     "name": "stdout",
     "output_type": "stream",
     "text": [
      "你的背包包含以下物品:\n",
      "索仔: 1\n",
      "火把: 6\n",
      "銀角仔: 45\n",
      "刀仔: 2\n",
      "箭: 12\n",
      "紅寶石: 1\n",
      "總共物品數量: 67\n"
     ]
    }
   ],
   "source": [
    "def addToInventory(inventory, loot):\n",
    "    for item in loot:\n",
    "        inventory[item] = inventory.get(item, 0) + 1\n",
    "    return inventory\n",
    "\n",
    "inventory = {'索仔': 1, '火把': 6, '銀角仔': 42, '刀仔': 1, '箭': 12}\n",
    "\n",
    "dragonLoot = ['銀角仔', '刀仔', '銀角仔', '銀角仔', '紅寶石']\n",
    "\n",
    "updated_inventory = addToInventory(inventory, dragonLoot)\n",
    "\n",
    "displayInventory(updated_inventory)"
   ]
  },
  {
   "cell_type": "code",
   "execution_count": null,
   "id": "14db191f",
   "metadata": {},
   "outputs": [],
   "source": []
  }
 ],
 "metadata": {
  "kernelspec": {
   "display_name": "Python 3 (ipykernel)",
   "language": "python",
   "name": "python3"
  },
  "language_info": {
   "codemirror_mode": {
    "name": "ipython",
    "version": 3
   },
   "file_extension": ".py",
   "mimetype": "text/x-python",
   "name": "python",
   "nbconvert_exporter": "python",
   "pygments_lexer": "ipython3",
   "version": "3.11.5"
  }
 },
 "nbformat": 4,
 "nbformat_minor": 5
}
